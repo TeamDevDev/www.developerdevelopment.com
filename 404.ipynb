{
  "cells": [
    {
      "cell_type": "raw",
      "metadata": {},
      "source": [
        "---\n",
        "title: 'Sorry, this Page is Not Available!'\n",
        "echo: true\n",
        "title-block-style: default\n",
        "title-block-banner: false\n",
        "---"
      ],
      "id": "52a3e9b6"
    },
    {
      "cell_type": "code",
      "metadata": {},
      "source": [
        "from rich.console import Console\n",
        "console = Console()\n",
        "console.print(\n",
        "    \":man_facepalming: Good grief, this page is not available! Try another link?\"\n",
        ")"
      ],
      "id": "5380abd0",
      "execution_count": null,
      "outputs": []
    },
    {
      "cell_type": "markdown",
      "metadata": {},
      "source": [
        "The page that you were looking for is not available on the [Developer Developer\n",
        "site](https://www.developerdevelopment.com/). Please use the menu at the top of\n",
        "the page to find an available resource!"
      ],
      "id": "dea0261e"
    }
  ],
  "metadata": {
    "kernelspec": {
      "name": "python3",
      "language": "python",
      "display_name": "Python 3 (ipykernel)"
    }
  },
  "nbformat": 4,
  "nbformat_minor": 5
}